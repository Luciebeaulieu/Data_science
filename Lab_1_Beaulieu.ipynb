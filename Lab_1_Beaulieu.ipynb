{
  "nbformat": 4,
  "nbformat_minor": 0,
  "metadata": {
    "colab": {
      "provenance": [],
      "authorship_tag": "ABX9TyN2pHDrgY09cxffzRteCMPS",
      "include_colab_link": true
    },
    "kernelspec": {
      "name": "python3",
      "display_name": "Python 3"
    },
    "language_info": {
      "name": "python"
    }
  },
  "cells": [
    {
      "cell_type": "markdown",
      "metadata": {
        "id": "view-in-github",
        "colab_type": "text"
      },
      "source": [
        "<a href=\"https://colab.research.google.com/github/Luciebeaulieu/Data_science/blob/main/Lab_1_Beaulieu.ipynb\" target=\"_parent\"><img src=\"https://colab.research.google.com/assets/colab-badge.svg\" alt=\"Open In Colab\"/></a>"
      ]
    },
    {
      "cell_type": "markdown",
      "source": [
        "Lab #1 Notebook"
      ],
      "metadata": {
        "id": "FGEHqFtGw9FB"
      }
    },
    {
      "cell_type": "code",
      "source": [
        "2+2"
      ],
      "metadata": {
        "colab": {
          "base_uri": "https://localhost:8080/"
        },
        "id": "RM-Otb1qxDQA",
        "outputId": "96645987-5bb0-4ab4-d19a-03fb91c77a7b"
      },
      "execution_count": 73,
      "outputs": [
        {
          "output_type": "execute_result",
          "data": {
            "text/plain": [
              "4"
            ]
          },
          "metadata": {},
          "execution_count": 73
        }
      ]
    },
    {
      "cell_type": "code",
      "source": [
        "2*24"
      ],
      "metadata": {
        "colab": {
          "base_uri": "https://localhost:8080/"
        },
        "id": "CMQnd0qsxENe",
        "outputId": "31c27ef5-c67b-4bad-adc3-fefea1ece671"
      },
      "execution_count": 74,
      "outputs": [
        {
          "output_type": "execute_result",
          "data": {
            "text/plain": [
              "48"
            ]
          },
          "metadata": {},
          "execution_count": 74
        }
      ]
    },
    {
      "cell_type": "code",
      "source": [
        "2**8"
      ],
      "metadata": {
        "colab": {
          "base_uri": "https://localhost:8080/"
        },
        "id": "L_XF1c2oxEUR",
        "outputId": "4634910b-c4dd-44c4-f7db-d469aa573709"
      },
      "execution_count": 75,
      "outputs": [
        {
          "output_type": "execute_result",
          "data": {
            "text/plain": [
              "256"
            ]
          },
          "metadata": {},
          "execution_count": 75
        }
      ]
    },
    {
      "cell_type": "code",
      "source": [
        "2**12345"
      ],
      "metadata": {
        "colab": {
          "base_uri": "https://localhost:8080/"
        },
        "id": "fstO6taLxg7R",
        "outputId": "e4eba246-a8a8-4b79-cdec-944cd5d25499"
      },
      "execution_count": 76,
      "outputs": [
        {
          "output_type": "execute_result",
          "data": {
            "text/plain": [
              "164171010688258216356020741663906501410127235530735881272116103087925094171390144280159034536439457734870419127140401667195510331085657185332721089236401193044493457116299768844344303479235489462436380672117015123283299131391904179287678259173308536738761981139958654880852234908448338817289014166774169869251339379828599748492918775437864739032217778051333882990074116246281269364933724892342134504702491040016637557429810893780765197418589477584716543480995722533317862352141459217781316266211186486157019262080414077670264642736018426998113523445732680856144329876972273300703392584997729207197971083945700345494092400147186997307012069454068489589035676979448169848060836924945824197706493306108258511936030341393221586423523264452449403781993352421885094664052270795527632721896121424813173522474674395886155092203404036730748474781710715745446135468098139831824083259647919175273503681561172684624283384438504776503000432241604550454374116320822227191911322123484085063926350606342197146407841178028071147192533942517270553513988142925976090769695456221159699052583533011331652079347093098173086975483539274464023357456484465482927479569437320368592222760278170306076733438801098370797675711274671054970711442158930561684343135774118741594506702833147396758825015850042983343690345185995956235143825771620543546030664562647854656431302644574119873820215595718618624485232422006575550007068883734241454686368856734496265385908809403972494685137741122866896719678053937285818409751670320140501843039224040735870096889596273419106389103662095318937990625980136711988237421962315266686856089505981438440850638067589321141759499017023839596858455548192000140085142294166987063499024792681334843159790936321351919859758669569200541507612099780909705198902176026219872201715422096090343686272984351441594569506778041062663266799342793856313801540959815845788584759033248828248561586450271172777240971795656082001848115815260930521663167480173886064019118572778281516735157779555888167787064432558595410843987446497881666288423233170060413025924629950477303342180149398926073618582715358742250388958231281694757980523791263699450732952325727664209947786063982561775327638504516918570101319391698412388607603742484414748268389669129118026878969735782286841116842656410574647607524418900720328045377993386279808768990376289424757351052369393977137871998119168898493037938756635621557623138404459266598837784229325799838782026060481496865561757031839002257091802876949248392744175669112242088439883248336310597001257385980776961529351198877747193531054956881808332177946751404038228718567911769630971553915410012677600002457982207465176670752102117002773980548089696530972476439694599881281812973217265853884727906535479745854085338851105144585481994156206497436745899944877732531412541279014300324594890623941145509856940982863769834430048120562966797907114102689879364945689860493474954538422367719507882513166051007352994068319251450666676648368200564329382998758875760414259654004977261309988267319806354856051784553990936610634733375984159028722378614984450255386315585631994503350002142910493190254825610707400589976364985748467955131077971641882672895854571236368282811336220769174784720113331269084746524204124263475054112841630933586166195036115696469686075600480420563557567616835633252622327172811002146392754445051182169805284630259703542633955126179520113059629914229833688535925729676778028406897316106101038469119090984567152591962365415039646394591503830797626339246986057077758611413664914168745375266786298141171496573941614387744125843685677063619782918759823106021054037757857761587472240835040580447360544029064930412569943169729238102162312218687930203068055400275795180972382856696655279408212344832"
            ]
          },
          "metadata": {},
          "execution_count": 76
        }
      ]
    },
    {
      "cell_type": "code",
      "source": [
        "4.7876+9.87654\n"
      ],
      "metadata": {
        "colab": {
          "base_uri": "https://localhost:8080/"
        },
        "id": "FVLgPUapxhEk",
        "outputId": "00b6cbcc-58e4-4a93-a4c5-6ed6d38654f0"
      },
      "execution_count": 77,
      "outputs": [
        {
          "output_type": "execute_result",
          "data": {
            "text/plain": [
              "14.66414"
            ]
          },
          "metadata": {},
          "execution_count": 77
        }
      ]
    },
    {
      "cell_type": "code",
      "source": [
        "4.7876*9.87654\n"
      ],
      "metadata": {
        "colab": {
          "base_uri": "https://localhost:8080/"
        },
        "id": "8LgvhsXBxr0X",
        "outputId": "0b93cd41-6d8a-44a9-872d-36e047b5bd8e"
      },
      "execution_count": 78,
      "outputs": [
        {
          "output_type": "execute_result",
          "data": {
            "text/plain": [
              "47.284922904000005"
            ]
          },
          "metadata": {},
          "execution_count": 78
        }
      ]
    },
    {
      "cell_type": "code",
      "source": [
        "8/4"
      ],
      "metadata": {
        "colab": {
          "base_uri": "https://localhost:8080/"
        },
        "id": "9N92J3e3xr9s",
        "outputId": "41981a03-3f19-4e34-cee6-b6ea14693c83"
      },
      "execution_count": 79,
      "outputs": [
        {
          "output_type": "execute_result",
          "data": {
            "text/plain": [
              "2.0"
            ]
          },
          "metadata": {},
          "execution_count": 79
        }
      ]
    },
    {
      "cell_type": "code",
      "source": [
        "8//4\n"
      ],
      "metadata": {
        "colab": {
          "base_uri": "https://localhost:8080/"
        },
        "id": "vneHuoW8x_mC",
        "outputId": "52594295-8514-4136-99a7-507f6b1c8617"
      },
      "execution_count": 80,
      "outputs": [
        {
          "output_type": "execute_result",
          "data": {
            "text/plain": [
              "2"
            ]
          },
          "metadata": {},
          "execution_count": 80
        }
      ]
    },
    {
      "cell_type": "code",
      "source": [
        "13%12\n"
      ],
      "metadata": {
        "colab": {
          "base_uri": "https://localhost:8080/"
        },
        "id": "kwVOo-rtx_pn",
        "outputId": "762bd0be-64dd-4555-e780-4b057d41c126"
      },
      "execution_count": 81,
      "outputs": [
        {
          "output_type": "execute_result",
          "data": {
            "text/plain": [
              "1"
            ]
          },
          "metadata": {},
          "execution_count": 81
        }
      ]
    },
    {
      "cell_type": "markdown",
      "source": [
        "# variables\n"
      ],
      "metadata": {
        "id": "JrFzO1rUyb9q"
      }
    },
    {
      "cell_type": "code",
      "source": [
        "apples=5\n",
        "\n"
      ],
      "metadata": {
        "id": "sHXsR0OIx_wq"
      },
      "execution_count": 82,
      "outputs": []
    },
    {
      "cell_type": "code",
      "source": [
        "apples "
      ],
      "metadata": {
        "colab": {
          "base_uri": "https://localhost:8080/"
        },
        "id": "nMgM0NK2x_0i",
        "outputId": "f793d512-974d-47cb-8c0c-1ea7ca6417e7"
      },
      "execution_count": 83,
      "outputs": [
        {
          "output_type": "execute_result",
          "data": {
            "text/plain": [
              "5"
            ]
          },
          "metadata": {},
          "execution_count": 83
        }
      ]
    },
    {
      "cell_type": "code",
      "source": [
        "oranges=8"
      ],
      "metadata": {
        "id": "3nQ2EACqy7IP"
      },
      "execution_count": 84,
      "outputs": []
    },
    {
      "cell_type": "code",
      "source": [
        "apples+oranges"
      ],
      "metadata": {
        "colab": {
          "base_uri": "https://localhost:8080/"
        },
        "id": "fu1jvq_ly7MJ",
        "outputId": "ff4158e0-0afc-4c91-cd5e-3103e8a72fef"
      },
      "execution_count": 85,
      "outputs": [
        {
          "output_type": "execute_result",
          "data": {
            "text/plain": [
              "13"
            ]
          },
          "metadata": {},
          "execution_count": 85
        }
      ]
    },
    {
      "cell_type": "code",
      "source": [
        "total= apples +oranges"
      ],
      "metadata": {
        "id": "1Pnd_PVCy7OH"
      },
      "execution_count": 86,
      "outputs": []
    },
    {
      "cell_type": "code",
      "source": [
        "total"
      ],
      "metadata": {
        "colab": {
          "base_uri": "https://localhost:8080/"
        },
        "id": "OyHqJ0C0y7RB",
        "outputId": "d42be4ef-df6e-4a37-f4ed-7af64fc53a2e"
      },
      "execution_count": 87,
      "outputs": [
        {
          "output_type": "execute_result",
          "data": {
            "text/plain": [
              "13"
            ]
          },
          "metadata": {},
          "execution_count": 87
        }
      ]
    },
    {
      "cell_type": "code",
      "source": [
        "apples**2\n"
      ],
      "metadata": {
        "colab": {
          "base_uri": "https://localhost:8080/"
        },
        "id": "oT0rap2-y7Wv",
        "outputId": "17a6b60b-ca58-4793-a776-c4d2c8ed1552"
      },
      "execution_count": 88,
      "outputs": [
        {
          "output_type": "execute_result",
          "data": {
            "text/plain": [
              "25"
            ]
          },
          "metadata": {},
          "execution_count": 88
        }
      ]
    },
    {
      "cell_type": "code",
      "source": [
        "cost_per_apples=0.25"
      ],
      "metadata": {
        "id": "J1TMww8vzrtw"
      },
      "execution_count": 89,
      "outputs": []
    },
    {
      "cell_type": "code",
      "source": [
        "total_apples_cost = apples * cost_per_apples"
      ],
      "metadata": {
        "id": "vOtXSgAZz647"
      },
      "execution_count": 90,
      "outputs": []
    },
    {
      "cell_type": "code",
      "source": [
        "total_apples_cost\n"
      ],
      "metadata": {
        "colab": {
          "base_uri": "https://localhost:8080/"
        },
        "id": "0zm5TIkAz7Br",
        "outputId": "62cd569b-f7f2-43d2-f37c-067fb31e26cb"
      },
      "execution_count": 91,
      "outputs": [
        {
          "output_type": "execute_result",
          "data": {
            "text/plain": [
              "1.25"
            ]
          },
          "metadata": {},
          "execution_count": 91
        }
      ]
    },
    {
      "cell_type": "code",
      "source": [
        "shirt_cost=25\n"
      ],
      "metadata": {
        "id": "xde1xENC0RVI"
      },
      "execution_count": 92,
      "outputs": []
    },
    {
      "cell_type": "code",
      "source": [
        "pants_cost=45"
      ],
      "metadata": {
        "id": "EYqUN4mL0RdH"
      },
      "execution_count": 93,
      "outputs": []
    },
    {
      "cell_type": "code",
      "source": [
        "shoes_cost=90"
      ],
      "metadata": {
        "id": "S--GyIyj0RgR"
      },
      "execution_count": 94,
      "outputs": []
    },
    {
      "cell_type": "code",
      "source": [
        "shirts_sold=12"
      ],
      "metadata": {
        "id": "vQv1xpfu0Rid"
      },
      "execution_count": 95,
      "outputs": []
    },
    {
      "cell_type": "code",
      "source": [
        "pants_sold=15"
      ],
      "metadata": {
        "id": "FoTYmvmH0RkC"
      },
      "execution_count": 96,
      "outputs": []
    },
    {
      "cell_type": "code",
      "source": [
        "shoes_sold=7"
      ],
      "metadata": {
        "id": "WV13ecvT0RmI"
      },
      "execution_count": 97,
      "outputs": []
    },
    {
      "cell_type": "code",
      "source": [
        "total_sales = (shirt_cost * shirts_sold) + (pants_cost * pants_sold)+(shoes_cost * shoes_sold)\n"
      ],
      "metadata": {
        "id": "vWsEcRAi0u6b"
      },
      "execution_count": 98,
      "outputs": []
    },
    {
      "cell_type": "code",
      "source": [
        "total_sales "
      ],
      "metadata": {
        "colab": {
          "base_uri": "https://localhost:8080/"
        },
        "id": "gX1KKA8V0RoW",
        "outputId": "b2a775d0-d99a-4891-9f4f-a799978de5b1"
      },
      "execution_count": 99,
      "outputs": [
        {
          "output_type": "execute_result",
          "data": {
            "text/plain": [
              "1605"
            ]
          },
          "metadata": {},
          "execution_count": 99
        }
      ]
    },
    {
      "cell_type": "code",
      "source": [
        "total_shirt_sales=(shirt_cost*shirts_sold)"
      ],
      "metadata": {
        "id": "T6B4dcmh0RrL"
      },
      "execution_count": 100,
      "outputs": []
    },
    {
      "cell_type": "code",
      "source": [
        "total_shirt_sales"
      ],
      "metadata": {
        "colab": {
          "base_uri": "https://localhost:8080/"
        },
        "id": "S6Iunvyt21mq",
        "outputId": "13199176-ef0c-413f-efd1-e66f2e2c0bb5"
      },
      "execution_count": 101,
      "outputs": [
        {
          "output_type": "execute_result",
          "data": {
            "text/plain": [
              "300"
            ]
          },
          "metadata": {},
          "execution_count": 101
        }
      ]
    },
    {
      "cell_type": "markdown",
      "source": [
        "#vectors\n",
        "\n"
      ],
      "metadata": {
        "id": "xSi_1Tj02ikJ"
      }
    },
    {
      "cell_type": "code",
      "source": [
        "import numpy as np\n"
      ],
      "metadata": {
        "id": "MngmV9Gp0RxK"
      },
      "execution_count": 102,
      "outputs": []
    },
    {
      "cell_type": "code",
      "source": [
        "import matplotlib.pyplot as plt\n"
      ],
      "metadata": {
        "id": "eSA4o_Cq1hwz"
      },
      "execution_count": 103,
      "outputs": []
    },
    {
      "cell_type": "code",
      "source": [
        "np.arange(10)"
      ],
      "metadata": {
        "colab": {
          "base_uri": "https://localhost:8080/"
        },
        "id": "2eyzZgjY1im7",
        "outputId": "1288da35-6507-4014-9b91-8f53ef483039"
      },
      "execution_count": 104,
      "outputs": [
        {
          "output_type": "execute_result",
          "data": {
            "text/plain": [
              "array([0, 1, 2, 3, 4, 5, 6, 7, 8, 9])"
            ]
          },
          "metadata": {},
          "execution_count": 104
        }
      ]
    },
    {
      "cell_type": "code",
      "source": [
        "x=np.arange(10)"
      ],
      "metadata": {
        "id": "WrlheDMn250-"
      },
      "execution_count": 105,
      "outputs": []
    },
    {
      "cell_type": "code",
      "source": [
        "x+1\n"
      ],
      "metadata": {
        "colab": {
          "base_uri": "https://localhost:8080/"
        },
        "id": "s6yuQOr425dQ",
        "outputId": "1e97868e-c0fd-4153-95e4-c4d54b03b666"
      },
      "execution_count": 106,
      "outputs": [
        {
          "output_type": "execute_result",
          "data": {
            "text/plain": [
              "array([ 1,  2,  3,  4,  5,  6,  7,  8,  9, 10])"
            ]
          },
          "metadata": {},
          "execution_count": 106
        }
      ]
    },
    {
      "cell_type": "code",
      "source": [
        "x*2"
      ],
      "metadata": {
        "colab": {
          "base_uri": "https://localhost:8080/"
        },
        "id": "lFYrV00s4JF9",
        "outputId": "fad23336-5355-45a0-a079-b3cda9137185"
      },
      "execution_count": 107,
      "outputs": [
        {
          "output_type": "execute_result",
          "data": {
            "text/plain": [
              "array([ 0,  2,  4,  6,  8, 10, 12, 14, 16, 18])"
            ]
          },
          "metadata": {},
          "execution_count": 107
        }
      ]
    },
    {
      "cell_type": "code",
      "source": [
        "x**2\n"
      ],
      "metadata": {
        "colab": {
          "base_uri": "https://localhost:8080/"
        },
        "id": "xIE3-W7D4kp0",
        "outputId": "d77a7362-a523-4657-cd11-061eae2bb2b2"
      },
      "execution_count": 108,
      "outputs": [
        {
          "output_type": "execute_result",
          "data": {
            "text/plain": [
              "array([ 0,  1,  4,  9, 16, 25, 36, 49, 64, 81])"
            ]
          },
          "metadata": {},
          "execution_count": 108
        }
      ]
    },
    {
      "cell_type": "code",
      "source": [
        "y=3*x+5\n"
      ],
      "metadata": {
        "id": "GWp5m3sD4kXQ"
      },
      "execution_count": 109,
      "outputs": []
    },
    {
      "cell_type": "code",
      "source": [
        "x"
      ],
      "metadata": {
        "colab": {
          "base_uri": "https://localhost:8080/"
        },
        "id": "d3ObTOLA4kTV",
        "outputId": "57199115-dd7a-45ba-96d7-b2d0d5960d6a"
      },
      "execution_count": 110,
      "outputs": [
        {
          "output_type": "execute_result",
          "data": {
            "text/plain": [
              "array([0, 1, 2, 3, 4, 5, 6, 7, 8, 9])"
            ]
          },
          "metadata": {},
          "execution_count": 110
        }
      ]
    },
    {
      "cell_type": "code",
      "source": [
        "y"
      ],
      "metadata": {
        "colab": {
          "base_uri": "https://localhost:8080/"
        },
        "id": "T7bkoMjU4kPs",
        "outputId": "671b0f5c-ce48-4df6-8cbb-bca6764489ae"
      },
      "execution_count": 111,
      "outputs": [
        {
          "output_type": "execute_result",
          "data": {
            "text/plain": [
              "array([ 5,  8, 11, 14, 17, 20, 23, 26, 29, 32])"
            ]
          },
          "metadata": {},
          "execution_count": 111
        }
      ]
    },
    {
      "cell_type": "code",
      "source": [
        "plt.plot(x,y)"
      ],
      "metadata": {
        "colab": {
          "base_uri": "https://localhost:8080/",
          "height": 282
        },
        "id": "8g-oxuQs4kLi",
        "outputId": "9eadfb34-532b-4918-8c03-282e7b82d4f5"
      },
      "execution_count": 112,
      "outputs": [
        {
          "output_type": "execute_result",
          "data": {
            "text/plain": [
              "[<matplotlib.lines.Line2D at 0x7fa7228449d0>]"
            ]
          },
          "metadata": {},
          "execution_count": 112
        },
        {
          "output_type": "display_data",
          "data": {
            "text/plain": [
              "<Figure size 432x288 with 1 Axes>"
            ],
            "image/png": "[encoded data removed]"
          },
          "metadata": {
            "needs_background": "light"
          }
        }
      ]
    },
    {
      "cell_type": "code",
      "source": [
        "plt.plot(x,y,'.')"
      ],
      "metadata": {
        "colab": {
          "base_uri": "https://localhost:8080/",
          "height": 282
        },
        "id": "alt-aR-V4kER",
        "outputId": "11ae04db-63f8-4039-fe1c-3d94f44cd2ea"
      },
      "execution_count": 113,
      "outputs": [
        {
          "output_type": "execute_result",
          "data": {
            "text/plain": [
              "[<matplotlib.lines.Line2D at 0x7fa72282cd10>]"
            ]
          },
          "metadata": {},
          "execution_count": 113
        },
        {
          "output_type": "display_data",
          "data": {
            "text/plain": [
              "<Figure size 432x288 with 1 Axes>"
            ],
            "image/png": "[encoded data removed]"
          },
          "metadata": {
            "needs_background": "light"
          }
        }
      ]
    },
    {
      "cell_type": "code",
      "source": [
        "plt.plot(x,y,'r.')"
      ],
      "metadata": {
        "colab": {
          "base_uri": "https://localhost:8080/",
          "height": 282
        },
        "id": "Yl00Hzno4j-S",
        "outputId": "4d46f281-e83d-407e-e52d-cda1ec6e2fa0"
      },
      "execution_count": 114,
      "outputs": [
        {
          "output_type": "execute_result",
          "data": {
            "text/plain": [
              "[<matplotlib.lines.Line2D at 0x7fa722794d50>]"
            ]
          },
          "metadata": {},
          "execution_count": 114
        },
        {
          "output_type": "display_data",
          "data": {
            "text/plain": [
              "<Figure size 432x288 with 1 Axes>"
            ],
            "image/png": "[encoded data removed]"
          },
          "metadata": {
            "needs_background": "light"
          }
        }
      ]
    },
    {
      "cell_type": "code",
      "source": [
        "plt.plot(x,y,'b--')"
      ],
      "metadata": {
        "colab": {
          "base_uri": "https://localhost:8080/",
          "height": 282
        },
        "id": "GoJqVbjn5EI4",
        "outputId": "2946e7e7-048c-4982-eaa1-c6c3280e3ea5"
      },
      "execution_count": 115,
      "outputs": [
        {
          "output_type": "execute_result",
          "data": {
            "text/plain": [
              "[<matplotlib.lines.Line2D at 0x7fa7226fcf90>]"
            ]
          },
          "metadata": {},
          "execution_count": 115
        },
        {
          "output_type": "display_data",
          "data": {
            "text/plain": [
              "<Figure size 432x288 with 1 Axes>"
            ],
            "image/png": "[encoded data removed]"
          },
          "metadata": {
            "needs_background": "light"
          }
        }
      ]
    },
    {
      "cell_type": "code",
      "source": [
        "plt.plot(x,y,'pink')"
      ],
      "metadata": {
        "colab": {
          "base_uri": "https://localhost:8080/",
          "height": 282
        },
        "id": "z74ryZ5b5D4u",
        "outputId": "e90dbdb2-8ca6-4216-c11f-c1a8b1991aa4"
      },
      "execution_count": 116,
      "outputs": [
        {
          "output_type": "execute_result",
          "data": {
            "text/plain": [
              "[<matplotlib.lines.Line2D at 0x7fa7226ef210>]"
            ]
          },
          "metadata": {},
          "execution_count": 116
        },
        {
          "output_type": "display_data",
          "data": {
            "text/plain": [
              "<Figure size 432x288 with 1 Axes>"
            ],
            "image/png": "[encoded data removed]"
          },
          "metadata": {
            "needs_background": "light"
          }
        }
      ]
    },
    {
      "cell_type": "code",
      "source": [
        "plt.plot(x,y,marker='o',\n",
        "             linestyle ='none',\n",
        "            markerfacecolor='#57D91F')"
      ],
      "metadata": {
        "colab": {
          "base_uri": "https://localhost:8080/",
          "height": 282
        },
        "id": "Y8jrDvyw8BaR",
        "outputId": "19d872fd-e082-4107-ac39-9270741d9225"
      },
      "execution_count": 117,
      "outputs": [
        {
          "output_type": "execute_result",
          "data": {
            "text/plain": [
              "[<matplotlib.lines.Line2D at 0x7fa722659610>]"
            ]
          },
          "metadata": {},
          "execution_count": 117
        },
        {
          "output_type": "display_data",
          "data": {
            "text/plain": [
              "<Figure size 432x288 with 1 Axes>"
            ],
            "image/png": "[encoded data removed]"
          },
          "metadata": {
            "needs_background": "light"
          }
        }
      ]
    },
    {
      "cell_type": "code",
      "source": [
        "x"
      ],
      "metadata": {
        "colab": {
          "base_uri": "https://localhost:8080/"
        },
        "id": "HjtLTFUN-Kdp",
        "outputId": "8005f879-ec4e-43b6-e294-c1d3587bfccb"
      },
      "execution_count": 118,
      "outputs": [
        {
          "output_type": "execute_result",
          "data": {
            "text/plain": [
              "array([0, 1, 2, 3, 4, 5, 6, 7, 8, 9])"
            ]
          },
          "metadata": {},
          "execution_count": 118
        }
      ]
    },
    {
      "cell_type": "code",
      "source": [
        "x=np.linspace(0,5,100)\n"
      ],
      "metadata": {
        "id": "oWGw7Ufq9iI2"
      },
      "execution_count": 119,
      "outputs": []
    },
    {
      "cell_type": "code",
      "source": [
        "x=np.linspace(0,2,100)\n",
        "plt.plot(x,x, label=\"linear\")\n",
        "plt.plot(x,x**2, label=\"squared\")\n",
        "plt.plot(x,x**3, label=\"cubed\")\n",
        "plt.legend()"
      ],
      "metadata": {
        "colab": {
          "base_uri": "https://localhost:8080/",
          "height": 282
        },
        "id": "p_i7t6jC9h2X",
        "outputId": "0670bfee-b350-48fc-f2ba-4c9b2453e3ff"
      },
      "execution_count": 120,
      "outputs": [
        {
          "output_type": "execute_result",
          "data": {
            "text/plain": [
              "<matplotlib.legend.Legend at 0x7fa722615050>"
            ]
          },
          "metadata": {},
          "execution_count": 120
        },
        {
          "output_type": "display_data",
          "data": {
            "text/plain": [
              "<Figure size 432x288 with 1 Axes>"
            ],
            "image/png": "[encoded data removed]"
          },
          "metadata": {
            "needs_background": "light"
          }
        }
      ]
    },
    {
      "cell_type": "code",
      "source": [
        "x=np.linspace(0,2,100)\n",
        "plt.plot(x,x,'r--', label=\"linear\")\n",
        "plt.plot(x,x**2,'bs', label=\"squared\")\n",
        "plt.plot(x,x**3,'g^', label=\"cubed\")\n",
        "plt.legend()"
      ],
      "metadata": {
        "colab": {
          "base_uri": "https://localhost:8080/",
          "height": 282
        },
        "id": "wOXAbjAn9hyf",
        "outputId": "eb0f0658-aefb-43c2-f249-7276158b511b"
      },
      "execution_count": 121,
      "outputs": [
        {
          "output_type": "execute_result",
          "data": {
            "text/plain": [
              "<matplotlib.legend.Legend at 0x7fa72253a050>"
            ]
          },
          "metadata": {},
          "execution_count": 121
        },
        {
          "output_type": "display_data",
          "data": {
            "text/plain": [
              "<Figure size 432x288 with 1 Axes>"
            ],
            "image/png": "[encoded data removed]"
          },
          "metadata": {
            "needs_background": "light"
          }
        }
      ]
    },
    {
      "cell_type": "code",
      "source": [
        "names=['cat','dog','bird']"
      ],
      "metadata": {
        "id": "SVhu419Z9him"
      },
      "execution_count": 122,
      "outputs": []
    },
    {
      "cell_type": "code",
      "source": [
        " names [0]"
      ],
      "metadata": {
        "colab": {
          "base_uri": "https://localhost:8080/",
          "height": 37
        },
        "id": "OmXxtEPRDO4s",
        "outputId": "fa726713-6146-4abd-c651-0293a913f040"
      },
      "execution_count": 123,
      "outputs": [
        {
          "output_type": "execute_result",
          "data": {
            "text/plain": [
              "'cat'"
            ],
            "application/vnd.google.colaboratory.intrinsic+json": {
              "type": "string"
            }
          },
          "metadata": {},
          "execution_count": 123
        }
      ]
    },
    {
      "cell_type": "code",
      "source": [
        "names [2]"
      ],
      "metadata": {
        "colab": {
          "base_uri": "https://localhost:8080/",
          "height": 37
        },
        "id": "gL9OCRlbDOr8",
        "outputId": "0b467151-6d43-4e1f-da59-d06cd25bee6d"
      },
      "execution_count": 124,
      "outputs": [
        {
          "output_type": "execute_result",
          "data": {
            "text/plain": [
              "'bird'"
            ],
            "application/vnd.google.colaboratory.intrinsic+json": {
              "type": "string"
            }
          },
          "metadata": {},
          "execution_count": 124
        }
      ]
    },
    {
      "cell_type": "code",
      "source": [
        "names [1]"
      ],
      "metadata": {
        "colab": {
          "base_uri": "https://localhost:8080/",
          "height": 37
        },
        "id": "ZyJxIxs7FH9U",
        "outputId": "e4b187b3-d0d2-4e34-a078-7f4d0dfdefbe"
      },
      "execution_count": 125,
      "outputs": [
        {
          "output_type": "execute_result",
          "data": {
            "text/plain": [
              "'dog'"
            ],
            "application/vnd.google.colaboratory.intrinsic+json": {
              "type": "string"
            }
          },
          "metadata": {},
          "execution_count": 125
        }
      ]
    },
    {
      "cell_type": "code",
      "source": [
        "values = [15,18,6]"
      ],
      "metadata": {
        "id": "AWriPZ1jFH6c"
      },
      "execution_count": 126,
      "outputs": []
    },
    {
      "cell_type": "code",
      "source": [
        "values"
      ],
      "metadata": {
        "colab": {
          "base_uri": "https://localhost:8080/"
        },
        "id": "_qSz9tj1FHz8",
        "outputId": "3a8625d4-e45b-4ffc-bd35-b7b60bd771af"
      },
      "execution_count": 127,
      "outputs": [
        {
          "output_type": "execute_result",
          "data": {
            "text/plain": [
              "[15, 18, 6]"
            ]
          },
          "metadata": {},
          "execution_count": 127
        }
      ]
    },
    {
      "cell_type": "markdown",
      "source": [
        "## Exercises \n",
        "\n"
      ],
      "metadata": {
        "id": "5aaYK7JzJcK3"
      }
    },
    {
      "cell_type": "code",
      "source": [
        "import numpy as np\n"
      ],
      "metadata": {
        "id": "Q4NR8ZIHJwE_"
      },
      "execution_count": 128,
      "outputs": []
    },
    {
      "cell_type": "code",
      "source": [
        "import matplotlib.pyplot as plt\n"
      ],
      "metadata": {
        "id": "0WVUSTOCJwB3"
      },
      "execution_count": 129,
      "outputs": []
    },
    {
      "cell_type": "code",
      "source": [
        "\n",
        "x = np.linspace(-10,10,1000)"
      ],
      "metadata": {
        "id": "FhlKDtNCJv-u"
      },
      "execution_count": 130,
      "outputs": []
    },
    {
      "cell_type": "code",
      "source": [
        "x"
      ],
      "metadata": {
        "colab": {
          "base_uri": "https://localhost:8080/"
        },
        "id": "o0ryK9HJJv7V",
        "outputId": "ef317e8f-2aaa-425d-ff55-75c4205ed607"
      },
      "execution_count": 131,
      "outputs": [
        {
          "output_type": "execute_result",
          "data": {
            "text/plain": [
              "array([-10.        ,  -9.97997998,  -9.95995996,  -9.93993994,\n",
              "        -9.91991992,  -9.8998999 ,  -9.87987988,  -9.85985986,\n",
              "        -9.83983984,  -9.81981982,  -9.7997998 ,  -9.77977978,\n",
              "        -9.75975976,  -9.73973974,  -9.71971972,  -9.6996997 ,\n",
              "        -9.67967968,  -9.65965966,  -9.63963964,  -9.61961962,\n",
              "        -9.5995996 ,  -9.57957958,  -9.55955956,  -9.53953954,\n",
              "        -9.51951952,  -9.4994995 ,  -9.47947948,  -9.45945946,\n",
              "        -9.43943944,  -9.41941942,  -9.3993994 ,  -9.37937938,\n",
              "        -9.35935936,  -9.33933934,  -9.31931932,  -9.2992993 ,\n",
              "        -9.27927928,  -9.25925926,  -9.23923924,  -9.21921922,\n",
              "        -9.1991992 ,  -9.17917918,  -9.15915916,  -9.13913914,\n",
              "        -9.11911912,  -9.0990991 ,  -9.07907908,  -9.05905906,\n",
              "        -9.03903904,  -9.01901902,  -8.998999  ,  -8.97897898,\n",
              "        -8.95895896,  -8.93893894,  -8.91891892,  -8.8988989 ,\n",
              "        -8.87887888,  -8.85885886,  -8.83883884,  -8.81881882,\n",
              "        -8.7987988 ,  -8.77877878,  -8.75875876,  -8.73873874,\n",
              "        -8.71871872,  -8.6986987 ,  -8.67867868,  -8.65865866,\n",
              "        -8.63863864,  -8.61861862,  -8.5985986 ,  -8.57857858,\n",
              "        -8.55855856,  -8.53853854,  -8.51851852,  -8.4984985 ,\n",
              "        -8.47847848,  -8.45845846,  -8.43843844,  -8.41841842,\n",
              "        -8.3983984 ,  -8.37837838,  -8.35835836,  -8.33833834,\n",
              "        -8.31831832,  -8.2982983 ,  -8.27827828,  -8.25825826,\n",
              "        -8.23823824,  -8.21821822,  -8.1981982 ,  -8.17817818,\n",
              "        -8.15815816,  -8.13813814,  -8.11811812,  -8.0980981 ,\n",
              "        -8.07807808,  -8.05805806,  -8.03803804,  -8.01801802,\n",
              "        -7.997998  ,  -7.97797798,  -7.95795796,  -7.93793794,\n",
              "        -7.91791792,  -7.8978979 ,  -7.87787788,  -7.85785786,\n",
              "        -7.83783784,  -7.81781782,  -7.7977978 ,  -7.77777778,\n",
              "        -7.75775776,  -7.73773774,  -7.71771772,  -7.6976977 ,\n",
              "        -7.67767768,  -7.65765766,  -7.63763764,  -7.61761762,\n",
              "        -7.5975976 ,  -7.57757758,  -7.55755756,  -7.53753754,\n",
              "        -7.51751752,  -7.4974975 ,  -7.47747748,  -7.45745746,\n",
              "        -7.43743744,  -7.41741742,  -7.3973974 ,  -7.37737738,\n",
              "        -7.35735736,  -7.33733734,  -7.31731732,  -7.2972973 ,\n",
              "        -7.27727728,  -7.25725726,  -7.23723724,  -7.21721722,\n",
              "        -7.1971972 ,  -7.17717718,  -7.15715716,  -7.13713714,\n",
              "        -7.11711712,  -7.0970971 ,  -7.07707708,  -7.05705706,\n",
              "        -7.03703704,  -7.01701702,  -6.996997  ,  -6.97697698,\n",
              "        -6.95695696,  -6.93693694,  -6.91691692,  -6.8968969 ,\n",
              "        -6.87687688,  -6.85685686,  -6.83683684,  -6.81681682,\n",
              "        -6.7967968 ,  -6.77677678,  -6.75675676,  -6.73673674,\n",
              "        -6.71671672,  -6.6966967 ,  -6.67667668,  -6.65665666,\n",
              "        -6.63663664,  -6.61661662,  -6.5965966 ,  -6.57657658,\n",
              "        -6.55655656,  -6.53653654,  -6.51651652,  -6.4964965 ,\n",
              "        -6.47647648,  -6.45645646,  -6.43643644,  -6.41641642,\n",
              "        -6.3963964 ,  -6.37637638,  -6.35635636,  -6.33633634,\n",
              "        -6.31631632,  -6.2962963 ,  -6.27627628,  -6.25625626,\n",
              "        -6.23623624,  -6.21621622,  -6.1961962 ,  -6.17617618,\n",
              "        -6.15615616,  -6.13613614,  -6.11611612,  -6.0960961 ,\n",
              "        -6.07607608,  -6.05605606,  -6.03603604,  -6.01601602,\n",
              "        -5.995996  ,  -5.97597598,  -5.95595596,  -5.93593594,\n",
              "        -5.91591592,  -5.8958959 ,  -5.87587588,  -5.85585586,\n",
              "        -5.83583584,  -5.81581582,  -5.7957958 ,  -5.77577578,\n",
              "        -5.75575576,  -5.73573574,  -5.71571572,  -5.6956957 ,\n",
              "        -5.67567568,  -5.65565566,  -5.63563564,  -5.61561562,\n",
              "        -5.5955956 ,  -5.57557558,  -5.55555556,  -5.53553554,\n",
              "        -5.51551552,  -5.4954955 ,  -5.47547548,  -5.45545546,\n",
              "        -5.43543544,  -5.41541542,  -5.3953954 ,  -5.37537538,\n",
              "        -5.35535536,  -5.33533534,  -5.31531532,  -5.2952953 ,\n",
              "        -5.27527528,  -5.25525526,  -5.23523524,  -5.21521522,\n",
              "        -5.1951952 ,  -5.17517518,  -5.15515516,  -5.13513514,\n",
              "        -5.11511512,  -5.0950951 ,  -5.07507508,  -5.05505506,\n",
              "        -5.03503504,  -5.01501502,  -4.99499499,  -4.97497497,\n",
              "        -4.95495495,  -4.93493493,  -4.91491491,  -4.89489489,\n",
              "        -4.87487487,  -4.85485485,  -4.83483483,  -4.81481481,\n",
              "        -4.79479479,  -4.77477477,  -4.75475475,  -4.73473473,\n",
              "        -4.71471471,  -4.69469469,  -4.67467467,  -4.65465465,\n",
              "        -4.63463463,  -4.61461461,  -4.59459459,  -4.57457457,\n",
              "        -4.55455455,  -4.53453453,  -4.51451451,  -4.49449449,\n",
              "        -4.47447447,  -4.45445445,  -4.43443443,  -4.41441441,\n",
              "        -4.39439439,  -4.37437437,  -4.35435435,  -4.33433433,\n",
              "        -4.31431431,  -4.29429429,  -4.27427427,  -4.25425425,\n",
              "        -4.23423423,  -4.21421421,  -4.19419419,  -4.17417417,\n",
              "        -4.15415415,  -4.13413413,  -4.11411411,  -4.09409409,\n",
              "        -4.07407407,  -4.05405405,  -4.03403403,  -4.01401401,\n",
              "        -3.99399399,  -3.97397397,  -3.95395395,  -3.93393393,\n",
              "        -3.91391391,  -3.89389389,  -3.87387387,  -3.85385385,\n",
              "        -3.83383383,  -3.81381381,  -3.79379379,  -3.77377377,\n",
              "        -3.75375375,  -3.73373373,  -3.71371371,  -3.69369369,\n",
              "        -3.67367367,  -3.65365365,  -3.63363363,  -3.61361361,\n",
              "        -3.59359359,  -3.57357357,  -3.55355355,  -3.53353353,\n",
              "        -3.51351351,  -3.49349349,  -3.47347347,  -3.45345345,\n",
              "        -3.43343343,  -3.41341341,  -3.39339339,  -3.37337337,\n",
              "        -3.35335335,  -3.33333333,  -3.31331331,  -3.29329329,\n",
              "        -3.27327327,  -3.25325325,  -3.23323323,  -3.21321321,\n",
              "        -3.19319319,  -3.17317317,  -3.15315315,  -3.13313313,\n",
              "        -3.11311311,  -3.09309309,  -3.07307307,  -3.05305305,\n",
              "        -3.03303303,  -3.01301301,  -2.99299299,  -2.97297297,\n",
              "        -2.95295295,  -2.93293293,  -2.91291291,  -2.89289289,\n",
              "        -2.87287287,  -2.85285285,  -2.83283283,  -2.81281281,\n",
              "        -2.79279279,  -2.77277277,  -2.75275275,  -2.73273273,\n",
              "        -2.71271271,  -2.69269269,  -2.67267267,  -2.65265265,\n",
              "        -2.63263263,  -2.61261261,  -2.59259259,  -2.57257257,\n",
              "        -2.55255255,  -2.53253253,  -2.51251251,  -2.49249249,\n",
              "        -2.47247247,  -2.45245245,  -2.43243243,  -2.41241241,\n",
              "        -2.39239239,  -2.37237237,  -2.35235235,  -2.33233233,\n",
              "        -2.31231231,  -2.29229229,  -2.27227227,  -2.25225225,\n",
              "        -2.23223223,  -2.21221221,  -2.19219219,  -2.17217217,\n",
              "        -2.15215215,  -2.13213213,  -2.11211211,  -2.09209209,\n",
              "        -2.07207207,  -2.05205205,  -2.03203203,  -2.01201201,\n",
              "        -1.99199199,  -1.97197197,  -1.95195195,  -1.93193193,\n",
              "        -1.91191191,  -1.89189189,  -1.87187187,  -1.85185185,\n",
              "        -1.83183183,  -1.81181181,  -1.79179179,  -1.77177177,\n",
              "        -1.75175175,  -1.73173173,  -1.71171171,  -1.69169169,\n",
              "        -1.67167167,  -1.65165165,  -1.63163163,  -1.61161161,\n",
              "        -1.59159159,  -1.57157157,  -1.55155155,  -1.53153153,\n",
              "        -1.51151151,  -1.49149149,  -1.47147147,  -1.45145145,\n",
              "        -1.43143143,  -1.41141141,  -1.39139139,  -1.37137137,\n",
              "        -1.35135135,  -1.33133133,  -1.31131131,  -1.29129129,\n",
              "        -1.27127127,  -1.25125125,  -1.23123123,  -1.21121121,\n",
              "        -1.19119119,  -1.17117117,  -1.15115115,  -1.13113113,\n",
              "        -1.11111111,  -1.09109109,  -1.07107107,  -1.05105105,\n",
              "        -1.03103103,  -1.01101101,  -0.99099099,  -0.97097097,\n",
              "        -0.95095095,  -0.93093093,  -0.91091091,  -0.89089089,\n",
              "        -0.87087087,  -0.85085085,  -0.83083083,  -0.81081081,\n",
              "        -0.79079079,  -0.77077077,  -0.75075075,  -0.73073073,\n",
              "        -0.71071071,  -0.69069069,  -0.67067067,  -0.65065065,\n",
              "        -0.63063063,  -0.61061061,  -0.59059059,  -0.57057057,\n",
              "        -0.55055055,  -0.53053053,  -0.51051051,  -0.49049049,\n",
              "        -0.47047047,  -0.45045045,  -0.43043043,  -0.41041041,\n",
              "        -0.39039039,  -0.37037037,  -0.35035035,  -0.33033033,\n",
              "        -0.31031031,  -0.29029029,  -0.27027027,  -0.25025025,\n",
              "        -0.23023023,  -0.21021021,  -0.19019019,  -0.17017017,\n",
              "        -0.15015015,  -0.13013013,  -0.11011011,  -0.09009009,\n",
              "        -0.07007007,  -0.05005005,  -0.03003003,  -0.01001001,\n",
              "         0.01001001,   0.03003003,   0.05005005,   0.07007007,\n",
              "         0.09009009,   0.11011011,   0.13013013,   0.15015015,\n",
              "         0.17017017,   0.19019019,   0.21021021,   0.23023023,\n",
              "         0.25025025,   0.27027027,   0.29029029,   0.31031031,\n",
              "         0.33033033,   0.35035035,   0.37037037,   0.39039039,\n",
              "         0.41041041,   0.43043043,   0.45045045,   0.47047047,\n",
              "         0.49049049,   0.51051051,   0.53053053,   0.55055055,\n",
              "         0.57057057,   0.59059059,   0.61061061,   0.63063063,\n",
              "         0.65065065,   0.67067067,   0.69069069,   0.71071071,\n",
              "         0.73073073,   0.75075075,   0.77077077,   0.79079079,\n",
              "         0.81081081,   0.83083083,   0.85085085,   0.87087087,\n",
              "         0.89089089,   0.91091091,   0.93093093,   0.95095095,\n",
              "         0.97097097,   0.99099099,   1.01101101,   1.03103103,\n",
              "         1.05105105,   1.07107107,   1.09109109,   1.11111111,\n",
              "         1.13113113,   1.15115115,   1.17117117,   1.19119119,\n",
              "         1.21121121,   1.23123123,   1.25125125,   1.27127127,\n",
              "         1.29129129,   1.31131131,   1.33133133,   1.35135135,\n",
              "         1.37137137,   1.39139139,   1.41141141,   1.43143143,\n",
              "         1.45145145,   1.47147147,   1.49149149,   1.51151151,\n",
              "         1.53153153,   1.55155155,   1.57157157,   1.59159159,\n",
              "         1.61161161,   1.63163163,   1.65165165,   1.67167167,\n",
              "         1.69169169,   1.71171171,   1.73173173,   1.75175175,\n",
              "         1.77177177,   1.79179179,   1.81181181,   1.83183183,\n",
              "         1.85185185,   1.87187187,   1.89189189,   1.91191191,\n",
              "         1.93193193,   1.95195195,   1.97197197,   1.99199199,\n",
              "         2.01201201,   2.03203203,   2.05205205,   2.07207207,\n",
              "         2.09209209,   2.11211211,   2.13213213,   2.15215215,\n",
              "         2.17217217,   2.19219219,   2.21221221,   2.23223223,\n",
              "         2.25225225,   2.27227227,   2.29229229,   2.31231231,\n",
              "         2.33233233,   2.35235235,   2.37237237,   2.39239239,\n",
              "         2.41241241,   2.43243243,   2.45245245,   2.47247247,\n",
              "         2.49249249,   2.51251251,   2.53253253,   2.55255255,\n",
              "         2.57257257,   2.59259259,   2.61261261,   2.63263263,\n",
              "         2.65265265,   2.67267267,   2.69269269,   2.71271271,\n",
              "         2.73273273,   2.75275275,   2.77277277,   2.79279279,\n",
              "         2.81281281,   2.83283283,   2.85285285,   2.87287287,\n",
              "         2.89289289,   2.91291291,   2.93293293,   2.95295295,\n",
              "         2.97297297,   2.99299299,   3.01301301,   3.03303303,\n",
              "         3.05305305,   3.07307307,   3.09309309,   3.11311311,\n",
              "         3.13313313,   3.15315315,   3.17317317,   3.19319319,\n",
              "         3.21321321,   3.23323323,   3.25325325,   3.27327327,\n",
              "         3.29329329,   3.31331331,   3.33333333,   3.35335335,\n",
              "         3.37337337,   3.39339339,   3.41341341,   3.43343343,\n",
              "         3.45345345,   3.47347347,   3.49349349,   3.51351351,\n",
              "         3.53353353,   3.55355355,   3.57357357,   3.59359359,\n",
              "         3.61361361,   3.63363363,   3.65365365,   3.67367367,\n",
              "         3.69369369,   3.71371371,   3.73373373,   3.75375375,\n",
              "         3.77377377,   3.79379379,   3.81381381,   3.83383383,\n",
              "         3.85385385,   3.87387387,   3.89389389,   3.91391391,\n",
              "         3.93393393,   3.95395395,   3.97397397,   3.99399399,\n",
              "         4.01401401,   4.03403403,   4.05405405,   4.07407407,\n",
              "         4.09409409,   4.11411411,   4.13413413,   4.15415415,\n",
              "         4.17417417,   4.19419419,   4.21421421,   4.23423423,\n",
              "         4.25425425,   4.27427427,   4.29429429,   4.31431431,\n",
              "         4.33433433,   4.35435435,   4.37437437,   4.39439439,\n",
              "         4.41441441,   4.43443443,   4.45445445,   4.47447447,\n",
              "         4.49449449,   4.51451451,   4.53453453,   4.55455455,\n",
              "         4.57457457,   4.59459459,   4.61461461,   4.63463463,\n",
              "         4.65465465,   4.67467467,   4.69469469,   4.71471471,\n",
              "         4.73473473,   4.75475475,   4.77477477,   4.79479479,\n",
              "         4.81481481,   4.83483483,   4.85485485,   4.87487487,\n",
              "         4.89489489,   4.91491491,   4.93493493,   4.95495495,\n",
              "         4.97497497,   4.99499499,   5.01501502,   5.03503504,\n",
              "         5.05505506,   5.07507508,   5.0950951 ,   5.11511512,\n",
              "         5.13513514,   5.15515516,   5.17517518,   5.1951952 ,\n",
              "         5.21521522,   5.23523524,   5.25525526,   5.27527528,\n",
              "         5.2952953 ,   5.31531532,   5.33533534,   5.35535536,\n",
              "         5.37537538,   5.3953954 ,   5.41541542,   5.43543544,\n",
              "         5.45545546,   5.47547548,   5.4954955 ,   5.51551552,\n",
              "         5.53553554,   5.55555556,   5.57557558,   5.5955956 ,\n",
              "         5.61561562,   5.63563564,   5.65565566,   5.67567568,\n",
              "         5.6956957 ,   5.71571572,   5.73573574,   5.75575576,\n",
              "         5.77577578,   5.7957958 ,   5.81581582,   5.83583584,\n",
              "         5.85585586,   5.87587588,   5.8958959 ,   5.91591592,\n",
              "         5.93593594,   5.95595596,   5.97597598,   5.995996  ,\n",
              "         6.01601602,   6.03603604,   6.05605606,   6.07607608,\n",
              "         6.0960961 ,   6.11611612,   6.13613614,   6.15615616,\n",
              "         6.17617618,   6.1961962 ,   6.21621622,   6.23623624,\n",
              "         6.25625626,   6.27627628,   6.2962963 ,   6.31631632,\n",
              "         6.33633634,   6.35635636,   6.37637638,   6.3963964 ,\n",
              "         6.41641642,   6.43643644,   6.45645646,   6.47647648,\n",
              "         6.4964965 ,   6.51651652,   6.53653654,   6.55655656,\n",
              "         6.57657658,   6.5965966 ,   6.61661662,   6.63663664,\n",
              "         6.65665666,   6.67667668,   6.6966967 ,   6.71671672,\n",
              "         6.73673674,   6.75675676,   6.77677678,   6.7967968 ,\n",
              "         6.81681682,   6.83683684,   6.85685686,   6.87687688,\n",
              "         6.8968969 ,   6.91691692,   6.93693694,   6.95695696,\n",
              "         6.97697698,   6.996997  ,   7.01701702,   7.03703704,\n",
              "         7.05705706,   7.07707708,   7.0970971 ,   7.11711712,\n",
              "         7.13713714,   7.15715716,   7.17717718,   7.1971972 ,\n",
              "         7.21721722,   7.23723724,   7.25725726,   7.27727728,\n",
              "         7.2972973 ,   7.31731732,   7.33733734,   7.35735736,\n",
              "         7.37737738,   7.3973974 ,   7.41741742,   7.43743744,\n",
              "         7.45745746,   7.47747748,   7.4974975 ,   7.51751752,\n",
              "         7.53753754,   7.55755756,   7.57757758,   7.5975976 ,\n",
              "         7.61761762,   7.63763764,   7.65765766,   7.67767768,\n",
              "         7.6976977 ,   7.71771772,   7.73773774,   7.75775776,\n",
              "         7.77777778,   7.7977978 ,   7.81781782,   7.83783784,\n",
              "         7.85785786,   7.87787788,   7.8978979 ,   7.91791792,\n",
              "         7.93793794,   7.95795796,   7.97797798,   7.997998  ,\n",
              "         8.01801802,   8.03803804,   8.05805806,   8.07807808,\n",
              "         8.0980981 ,   8.11811812,   8.13813814,   8.15815816,\n",
              "         8.17817818,   8.1981982 ,   8.21821822,   8.23823824,\n",
              "         8.25825826,   8.27827828,   8.2982983 ,   8.31831832,\n",
              "         8.33833834,   8.35835836,   8.37837838,   8.3983984 ,\n",
              "         8.41841842,   8.43843844,   8.45845846,   8.47847848,\n",
              "         8.4984985 ,   8.51851852,   8.53853854,   8.55855856,\n",
              "         8.57857858,   8.5985986 ,   8.61861862,   8.63863864,\n",
              "         8.65865866,   8.67867868,   8.6986987 ,   8.71871872,\n",
              "         8.73873874,   8.75875876,   8.77877878,   8.7987988 ,\n",
              "         8.81881882,   8.83883884,   8.85885886,   8.87887888,\n",
              "         8.8988989 ,   8.91891892,   8.93893894,   8.95895896,\n",
              "         8.97897898,   8.998999  ,   9.01901902,   9.03903904,\n",
              "         9.05905906,   9.07907908,   9.0990991 ,   9.11911912,\n",
              "         9.13913914,   9.15915916,   9.17917918,   9.1991992 ,\n",
              "         9.21921922,   9.23923924,   9.25925926,   9.27927928,\n",
              "         9.2992993 ,   9.31931932,   9.33933934,   9.35935936,\n",
              "         9.37937938,   9.3993994 ,   9.41941942,   9.43943944,\n",
              "         9.45945946,   9.47947948,   9.4994995 ,   9.51951952,\n",
              "         9.53953954,   9.55955956,   9.57957958,   9.5995996 ,\n",
              "         9.61961962,   9.63963964,   9.65965966,   9.67967968,\n",
              "         9.6996997 ,   9.71971972,   9.73973974,   9.75975976,\n",
              "         9.77977978,   9.7997998 ,   9.81981982,   9.83983984,\n",
              "         9.85985986,   9.87987988,   9.8998999 ,   9.91991992,\n",
              "         9.93993994,   9.95995996,   9.97997998,  10.        ])"
            ]
          },
          "metadata": {},
          "execution_count": 131
        }
      ]
    },
    {
      "cell_type": "code",
      "source": [
        "y = 10*x+7"
      ],
      "metadata": {
        "id": "psT642P0Jv4h"
      },
      "execution_count": 132,
      "outputs": []
    },
    {
      "cell_type": "code",
      "source": [
        "y"
      ],
      "metadata": {
        "colab": {
          "base_uri": "https://localhost:8080/"
        },
        "id": "NUOXQxZsJvlg",
        "outputId": "edc2e047-f2f5-4d78-febc-a50c8e4da33d"
      },
      "execution_count": 133,
      "outputs": [
        {
          "output_type": "execute_result",
          "data": {
            "text/plain": [
              "array([-9.30000000e+01, -9.27997998e+01, -9.25995996e+01, -9.23993994e+01,\n",
              "       -9.21991992e+01, -9.19989990e+01, -9.17987988e+01, -9.15985986e+01,\n",
              "       -9.13983984e+01, -9.11981982e+01, -9.09979980e+01, -9.07977978e+01,\n",
              "       -9.05975976e+01, -9.03973974e+01, -9.01971972e+01, -8.99969970e+01,\n",
              "       -8.97967968e+01, -8.95965966e+01, -8.93963964e+01, -8.91961962e+01,\n",
              "       -8.89959960e+01, -8.87957958e+01, -8.85955956e+01, -8.83953954e+01,\n",
              "       -8.81951952e+01, -8.79949950e+01, -8.77947948e+01, -8.75945946e+01,\n",
              "       -8.73943944e+01, -8.71941942e+01, -8.69939940e+01, -8.67937938e+01,\n",
              "       -8.65935936e+01, -8.63933934e+01, -8.61931932e+01, -8.59929930e+01,\n",
              "       -8.57927928e+01, -8.55925926e+01, -8.53923924e+01, -8.51921922e+01,\n",
              "       -8.49919920e+01, -8.47917918e+01, -8.45915916e+01, -8.43913914e+01,\n",
              "       -8.41911912e+01, -8.39909910e+01, -8.37907908e+01, -8.35905906e+01,\n",
              "       -8.33903904e+01, -8.31901902e+01, -8.29899900e+01, -8.27897898e+01,\n",
              "       -8.25895896e+01, -8.23893894e+01, -8.21891892e+01, -8.19889890e+01,\n",
              "       -8.17887888e+01, -8.15885886e+01, -8.13883884e+01, -8.11881882e+01,\n",
              "       -8.09879880e+01, -8.07877878e+01, -8.05875876e+01, -8.03873874e+01,\n",
              "       -8.01871872e+01, -7.99869870e+01, -7.97867868e+01, -7.95865866e+01,\n",
              "       -7.93863864e+01, -7.91861862e+01, -7.89859860e+01, -7.87857858e+01,\n",
              "       -7.85855856e+01, -7.83853854e+01, -7.81851852e+01, -7.79849850e+01,\n",
              "       -7.77847848e+01, -7.75845846e+01, -7.73843844e+01, -7.71841842e+01,\n",
              "       -7.69839840e+01, -7.67837838e+01, -7.65835836e+01, -7.63833834e+01,\n",
              "       -7.61831832e+01, -7.59829830e+01, -7.57827828e+01, -7.55825826e+01,\n",
              "       -7.53823824e+01, -7.51821822e+01, -7.49819820e+01, -7.47817818e+01,\n",
              "       -7.45815816e+01, -7.43813814e+01, -7.41811812e+01, -7.39809810e+01,\n",
              "       -7.37807808e+01, -7.35805806e+01, -7.33803804e+01, -7.31801802e+01,\n",
              "       -7.29799800e+01, -7.27797798e+01, -7.25795796e+01, -7.23793794e+01,\n",
              "       -7.21791792e+01, -7.19789790e+01, -7.17787788e+01, -7.15785786e+01,\n",
              "       -7.13783784e+01, -7.11781782e+01, -7.09779780e+01, -7.07777778e+01,\n",
              "       -7.05775776e+01, -7.03773774e+01, -7.01771772e+01, -6.99769770e+01,\n",
              "       -6.97767768e+01, -6.95765766e+01, -6.93763764e+01, -6.91761762e+01,\n",
              "       -6.89759760e+01, -6.87757758e+01, -6.85755756e+01, -6.83753754e+01,\n",
              "       -6.81751752e+01, -6.79749750e+01, -6.77747748e+01, -6.75745746e+01,\n",
              "       -6.73743744e+01, -6.71741742e+01, -6.69739740e+01, -6.67737738e+01,\n",
              "       -6.65735736e+01, -6.63733734e+01, -6.61731732e+01, -6.59729730e+01,\n",
              "       -6.57727728e+01, -6.55725726e+01, -6.53723724e+01, -6.51721722e+01,\n",
              "       -6.49719720e+01, -6.47717718e+01, -6.45715716e+01, -6.43713714e+01,\n",
              "       -6.41711712e+01, -6.39709710e+01, -6.37707708e+01, -6.35705706e+01,\n",
              "       -6.33703704e+01, -6.31701702e+01, -6.29699700e+01, -6.27697698e+01,\n",
              "       -6.25695696e+01, -6.23693694e+01, -6.21691692e+01, -6.19689690e+01,\n",
              "       -6.17687688e+01, -6.15685686e+01, -6.13683684e+01, -6.11681682e+01,\n",
              "       -6.09679680e+01, -6.07677678e+01, -6.05675676e+01, -6.03673674e+01,\n",
              "       -6.01671672e+01, -5.99669670e+01, -5.97667668e+01, -5.95665666e+01,\n",
              "       -5.93663664e+01, -5.91661662e+01, -5.89659660e+01, -5.87657658e+01,\n",
              "       -5.85655656e+01, -5.83653654e+01, -5.81651652e+01, -5.79649650e+01,\n",
              "       -5.77647648e+01, -5.75645646e+01, -5.73643644e+01, -5.71641642e+01,\n",
              "       -5.69639640e+01, -5.67637638e+01, -5.65635636e+01, -5.63633634e+01,\n",
              "       -5.61631632e+01, -5.59629630e+01, -5.57627628e+01, -5.55625626e+01,\n",
              "       -5.53623624e+01, -5.51621622e+01, -5.49619620e+01, -5.47617618e+01,\n",
              "       -5.45615616e+01, -5.43613614e+01, -5.41611612e+01, -5.39609610e+01,\n",
              "       -5.37607608e+01, -5.35605606e+01, -5.33603604e+01, -5.31601602e+01,\n",
              "       -5.29599600e+01, -5.27597598e+01, -5.25595596e+01, -5.23593594e+01,\n",
              "       -5.21591592e+01, -5.19589590e+01, -5.17587588e+01, -5.15585586e+01,\n",
              "       -5.13583584e+01, -5.11581582e+01, -5.09579580e+01, -5.07577578e+01,\n",
              "       -5.05575576e+01, -5.03573574e+01, -5.01571572e+01, -4.99569570e+01,\n",
              "       -4.97567568e+01, -4.95565566e+01, -4.93563564e+01, -4.91561562e+01,\n",
              "       -4.89559560e+01, -4.87557558e+01, -4.85555556e+01, -4.83553554e+01,\n",
              "       -4.81551552e+01, -4.79549550e+01, -4.77547548e+01, -4.75545546e+01,\n",
              "       -4.73543544e+01, -4.71541542e+01, -4.69539540e+01, -4.67537538e+01,\n",
              "       -4.65535536e+01, -4.63533534e+01, -4.61531532e+01, -4.59529530e+01,\n",
              "       -4.57527528e+01, -4.55525526e+01, -4.53523524e+01, -4.51521522e+01,\n",
              "       -4.49519520e+01, -4.47517518e+01, -4.45515516e+01, -4.43513514e+01,\n",
              "       -4.41511512e+01, -4.39509510e+01, -4.37507508e+01, -4.35505506e+01,\n",
              "       -4.33503504e+01, -4.31501502e+01, -4.29499499e+01, -4.27497497e+01,\n",
              "       -4.25495495e+01, -4.23493493e+01, -4.21491491e+01, -4.19489489e+01,\n",
              "       -4.17487487e+01, -4.15485485e+01, -4.13483483e+01, -4.11481481e+01,\n",
              "       -4.09479479e+01, -4.07477477e+01, -4.05475475e+01, -4.03473473e+01,\n",
              "       -4.01471471e+01, -3.99469469e+01, -3.97467467e+01, -3.95465465e+01,\n",
              "       -3.93463463e+01, -3.91461461e+01, -3.89459459e+01, -3.87457457e+01,\n",
              "       -3.85455455e+01, -3.83453453e+01, -3.81451451e+01, -3.79449449e+01,\n",
              "       -3.77447447e+01, -3.75445445e+01, -3.73443443e+01, -3.71441441e+01,\n",
              "       -3.69439439e+01, -3.67437437e+01, -3.65435435e+01, -3.63433433e+01,\n",
              "       -3.61431431e+01, -3.59429429e+01, -3.57427427e+01, -3.55425425e+01,\n",
              "       -3.53423423e+01, -3.51421421e+01, -3.49419419e+01, -3.47417417e+01,\n",
              "       -3.45415415e+01, -3.43413413e+01, -3.41411411e+01, -3.39409409e+01,\n",
              "       -3.37407407e+01, -3.35405405e+01, -3.33403403e+01, -3.31401401e+01,\n",
              "       -3.29399399e+01, -3.27397397e+01, -3.25395395e+01, -3.23393393e+01,\n",
              "       -3.21391391e+01, -3.19389389e+01, -3.17387387e+01, -3.15385385e+01,\n",
              "       -3.13383383e+01, -3.11381381e+01, -3.09379379e+01, -3.07377377e+01,\n",
              "       -3.05375375e+01, -3.03373373e+01, -3.01371371e+01, -2.99369369e+01,\n",
              "       -2.97367367e+01, -2.95365365e+01, -2.93363363e+01, -2.91361361e+01,\n",
              "       -2.89359359e+01, -2.87357357e+01, -2.85355355e+01, -2.83353353e+01,\n",
              "       -2.81351351e+01, -2.79349349e+01, -2.77347347e+01, -2.75345345e+01,\n",
              "       -2.73343343e+01, -2.71341341e+01, -2.69339339e+01, -2.67337337e+01,\n",
              "       -2.65335335e+01, -2.63333333e+01, -2.61331331e+01, -2.59329329e+01,\n",
              "       -2.57327327e+01, -2.55325325e+01, -2.53323323e+01, -2.51321321e+01,\n",
              "       -2.49319319e+01, -2.47317317e+01, -2.45315315e+01, -2.43313313e+01,\n",
              "       -2.41311311e+01, -2.39309309e+01, -2.37307307e+01, -2.35305305e+01,\n",
              "       -2.33303303e+01, -2.31301301e+01, -2.29299299e+01, -2.27297297e+01,\n",
              "       -2.25295295e+01, -2.23293293e+01, -2.21291291e+01, -2.19289289e+01,\n",
              "       -2.17287287e+01, -2.15285285e+01, -2.13283283e+01, -2.11281281e+01,\n",
              "       -2.09279279e+01, -2.07277277e+01, -2.05275275e+01, -2.03273273e+01,\n",
              "       -2.01271271e+01, -1.99269269e+01, -1.97267267e+01, -1.95265265e+01,\n",
              "       -1.93263263e+01, -1.91261261e+01, -1.89259259e+01, -1.87257257e+01,\n",
              "       -1.85255255e+01, -1.83253253e+01, -1.81251251e+01, -1.79249249e+01,\n",
              "       -1.77247247e+01, -1.75245245e+01, -1.73243243e+01, -1.71241241e+01,\n",
              "       -1.69239239e+01, -1.67237237e+01, -1.65235235e+01, -1.63233233e+01,\n",
              "       -1.61231231e+01, -1.59229229e+01, -1.57227227e+01, -1.55225225e+01,\n",
              "       -1.53223223e+01, -1.51221221e+01, -1.49219219e+01, -1.47217217e+01,\n",
              "       -1.45215215e+01, -1.43213213e+01, -1.41211211e+01, -1.39209209e+01,\n",
              "       -1.37207207e+01, -1.35205205e+01, -1.33203203e+01, -1.31201201e+01,\n",
              "       -1.29199199e+01, -1.27197197e+01, -1.25195195e+01, -1.23193193e+01,\n",
              "       -1.21191191e+01, -1.19189189e+01, -1.17187187e+01, -1.15185185e+01,\n",
              "       -1.13183183e+01, -1.11181181e+01, -1.09179179e+01, -1.07177177e+01,\n",
              "       -1.05175175e+01, -1.03173173e+01, -1.01171171e+01, -9.91691692e+00,\n",
              "       -9.71671672e+00, -9.51651652e+00, -9.31631632e+00, -9.11611612e+00,\n",
              "       -8.91591592e+00, -8.71571572e+00, -8.51551552e+00, -8.31531532e+00,\n",
              "       -8.11511512e+00, -7.91491491e+00, -7.71471471e+00, -7.51451451e+00,\n",
              "       -7.31431431e+00, -7.11411411e+00, -6.91391391e+00, -6.71371371e+00,\n",
              "       -6.51351351e+00, -6.31331331e+00, -6.11311311e+00, -5.91291291e+00,\n",
              "       -5.71271271e+00, -5.51251251e+00, -5.31231231e+00, -5.11211211e+00,\n",
              "       -4.91191191e+00, -4.71171171e+00, -4.51151151e+00, -4.31131131e+00,\n",
              "       -4.11111111e+00, -3.91091091e+00, -3.71071071e+00, -3.51051051e+00,\n",
              "       -3.31031031e+00, -3.11011011e+00, -2.90990991e+00, -2.70970971e+00,\n",
              "       -2.50950951e+00, -2.30930931e+00, -2.10910911e+00, -1.90890891e+00,\n",
              "       -1.70870871e+00, -1.50850851e+00, -1.30830831e+00, -1.10810811e+00,\n",
              "       -9.07907908e-01, -7.07707708e-01, -5.07507508e-01, -3.07307307e-01,\n",
              "       -1.07107107e-01,  9.30930931e-02,  2.93293293e-01,  4.93493493e-01,\n",
              "        6.93693694e-01,  8.93893894e-01,  1.09409409e+00,  1.29429429e+00,\n",
              "        1.49449449e+00,  1.69469469e+00,  1.89489489e+00,  2.09509510e+00,\n",
              "        2.29529530e+00,  2.49549550e+00,  2.69569570e+00,  2.89589590e+00,\n",
              "        3.09609610e+00,  3.29629630e+00,  3.49649650e+00,  3.69669670e+00,\n",
              "        3.89689690e+00,  4.09709710e+00,  4.29729730e+00,  4.49749750e+00,\n",
              "        4.69769770e+00,  4.89789790e+00,  5.09809810e+00,  5.29829830e+00,\n",
              "        5.49849850e+00,  5.69869870e+00,  5.89889890e+00,  6.09909910e+00,\n",
              "        6.29929930e+00,  6.49949950e+00,  6.69969970e+00,  6.89989990e+00,\n",
              "        7.10010010e+00,  7.30030030e+00,  7.50050050e+00,  7.70070070e+00,\n",
              "        7.90090090e+00,  8.10110110e+00,  8.30130130e+00,  8.50150150e+00,\n",
              "        8.70170170e+00,  8.90190190e+00,  9.10210210e+00,  9.30230230e+00,\n",
              "        9.50250250e+00,  9.70270270e+00,  9.90290290e+00,  1.01031031e+01,\n",
              "        1.03033033e+01,  1.05035035e+01,  1.07037037e+01,  1.09039039e+01,\n",
              "        1.11041041e+01,  1.13043043e+01,  1.15045045e+01,  1.17047047e+01,\n",
              "        1.19049049e+01,  1.21051051e+01,  1.23053053e+01,  1.25055055e+01,\n",
              "        1.27057057e+01,  1.29059059e+01,  1.31061061e+01,  1.33063063e+01,\n",
              "        1.35065065e+01,  1.37067067e+01,  1.39069069e+01,  1.41071071e+01,\n",
              "        1.43073073e+01,  1.45075075e+01,  1.47077077e+01,  1.49079079e+01,\n",
              "        1.51081081e+01,  1.53083083e+01,  1.55085085e+01,  1.57087087e+01,\n",
              "        1.59089089e+01,  1.61091091e+01,  1.63093093e+01,  1.65095095e+01,\n",
              "        1.67097097e+01,  1.69099099e+01,  1.71101101e+01,  1.73103103e+01,\n",
              "        1.75105105e+01,  1.77107107e+01,  1.79109109e+01,  1.81111111e+01,\n",
              "        1.83113113e+01,  1.85115115e+01,  1.87117117e+01,  1.89119119e+01,\n",
              "        1.91121121e+01,  1.93123123e+01,  1.95125125e+01,  1.97127127e+01,\n",
              "        1.99129129e+01,  2.01131131e+01,  2.03133133e+01,  2.05135135e+01,\n",
              "        2.07137137e+01,  2.09139139e+01,  2.11141141e+01,  2.13143143e+01,\n",
              "        2.15145145e+01,  2.17147147e+01,  2.19149149e+01,  2.21151151e+01,\n",
              "        2.23153153e+01,  2.25155155e+01,  2.27157157e+01,  2.29159159e+01,\n",
              "        2.31161161e+01,  2.33163163e+01,  2.35165165e+01,  2.37167167e+01,\n",
              "        2.39169169e+01,  2.41171171e+01,  2.43173173e+01,  2.45175175e+01,\n",
              "        2.47177177e+01,  2.49179179e+01,  2.51181181e+01,  2.53183183e+01,\n",
              "        2.55185185e+01,  2.57187187e+01,  2.59189189e+01,  2.61191191e+01,\n",
              "        2.63193193e+01,  2.65195195e+01,  2.67197197e+01,  2.69199199e+01,\n",
              "        2.71201201e+01,  2.73203203e+01,  2.75205205e+01,  2.77207207e+01,\n",
              "        2.79209209e+01,  2.81211211e+01,  2.83213213e+01,  2.85215215e+01,\n",
              "        2.87217217e+01,  2.89219219e+01,  2.91221221e+01,  2.93223223e+01,\n",
              "        2.95225225e+01,  2.97227227e+01,  2.99229229e+01,  3.01231231e+01,\n",
              "        3.03233233e+01,  3.05235235e+01,  3.07237237e+01,  3.09239239e+01,\n",
              "        3.11241241e+01,  3.13243243e+01,  3.15245245e+01,  3.17247247e+01,\n",
              "        3.19249249e+01,  3.21251251e+01,  3.23253253e+01,  3.25255255e+01,\n",
              "        3.27257257e+01,  3.29259259e+01,  3.31261261e+01,  3.33263263e+01,\n",
              "        3.35265265e+01,  3.37267267e+01,  3.39269269e+01,  3.41271271e+01,\n",
              "        3.43273273e+01,  3.45275275e+01,  3.47277277e+01,  3.49279279e+01,\n",
              "        3.51281281e+01,  3.53283283e+01,  3.55285285e+01,  3.57287287e+01,\n",
              "        3.59289289e+01,  3.61291291e+01,  3.63293293e+01,  3.65295295e+01,\n",
              "        3.67297297e+01,  3.69299299e+01,  3.71301301e+01,  3.73303303e+01,\n",
              "        3.75305305e+01,  3.77307307e+01,  3.79309309e+01,  3.81311311e+01,\n",
              "        3.83313313e+01,  3.85315315e+01,  3.87317317e+01,  3.89319319e+01,\n",
              "        3.91321321e+01,  3.93323323e+01,  3.95325325e+01,  3.97327327e+01,\n",
              "        3.99329329e+01,  4.01331331e+01,  4.03333333e+01,  4.05335335e+01,\n",
              "        4.07337337e+01,  4.09339339e+01,  4.11341341e+01,  4.13343343e+01,\n",
              "        4.15345345e+01,  4.17347347e+01,  4.19349349e+01,  4.21351351e+01,\n",
              "        4.23353353e+01,  4.25355355e+01,  4.27357357e+01,  4.29359359e+01,\n",
              "        4.31361361e+01,  4.33363363e+01,  4.35365365e+01,  4.37367367e+01,\n",
              "        4.39369369e+01,  4.41371371e+01,  4.43373373e+01,  4.45375375e+01,\n",
              "        4.47377377e+01,  4.49379379e+01,  4.51381381e+01,  4.53383383e+01,\n",
              "        4.55385385e+01,  4.57387387e+01,  4.59389389e+01,  4.61391391e+01,\n",
              "        4.63393393e+01,  4.65395395e+01,  4.67397397e+01,  4.69399399e+01,\n",
              "        4.71401401e+01,  4.73403403e+01,  4.75405405e+01,  4.77407407e+01,\n",
              "        4.79409409e+01,  4.81411411e+01,  4.83413413e+01,  4.85415415e+01,\n",
              "        4.87417417e+01,  4.89419419e+01,  4.91421421e+01,  4.93423423e+01,\n",
              "        4.95425425e+01,  4.97427427e+01,  4.99429429e+01,  5.01431431e+01,\n",
              "        5.03433433e+01,  5.05435435e+01,  5.07437437e+01,  5.09439439e+01,\n",
              "        5.11441441e+01,  5.13443443e+01,  5.15445445e+01,  5.17447447e+01,\n",
              "        5.19449449e+01,  5.21451451e+01,  5.23453453e+01,  5.25455455e+01,\n",
              "        5.27457457e+01,  5.29459459e+01,  5.31461461e+01,  5.33463463e+01,\n",
              "        5.35465465e+01,  5.37467467e+01,  5.39469469e+01,  5.41471471e+01,\n",
              "        5.43473473e+01,  5.45475475e+01,  5.47477477e+01,  5.49479479e+01,\n",
              "        5.51481481e+01,  5.53483483e+01,  5.55485485e+01,  5.57487487e+01,\n",
              "        5.59489489e+01,  5.61491491e+01,  5.63493493e+01,  5.65495495e+01,\n",
              "        5.67497497e+01,  5.69499499e+01,  5.71501502e+01,  5.73503504e+01,\n",
              "        5.75505506e+01,  5.77507508e+01,  5.79509510e+01,  5.81511512e+01,\n",
              "        5.83513514e+01,  5.85515516e+01,  5.87517518e+01,  5.89519520e+01,\n",
              "        5.91521522e+01,  5.93523524e+01,  5.95525526e+01,  5.97527528e+01,\n",
              "        5.99529530e+01,  6.01531532e+01,  6.03533534e+01,  6.05535536e+01,\n",
              "        6.07537538e+01,  6.09539540e+01,  6.11541542e+01,  6.13543544e+01,\n",
              "        6.15545546e+01,  6.17547548e+01,  6.19549550e+01,  6.21551552e+01,\n",
              "        6.23553554e+01,  6.25555556e+01,  6.27557558e+01,  6.29559560e+01,\n",
              "        6.31561562e+01,  6.33563564e+01,  6.35565566e+01,  6.37567568e+01,\n",
              "        6.39569570e+01,  6.41571572e+01,  6.43573574e+01,  6.45575576e+01,\n",
              "        6.47577578e+01,  6.49579580e+01,  6.51581582e+01,  6.53583584e+01,\n",
              "        6.55585586e+01,  6.57587588e+01,  6.59589590e+01,  6.61591592e+01,\n",
              "        6.63593594e+01,  6.65595596e+01,  6.67597598e+01,  6.69599600e+01,\n",
              "        6.71601602e+01,  6.73603604e+01,  6.75605606e+01,  6.77607608e+01,\n",
              "        6.79609610e+01,  6.81611612e+01,  6.83613614e+01,  6.85615616e+01,\n",
              "        6.87617618e+01,  6.89619620e+01,  6.91621622e+01,  6.93623624e+01,\n",
              "        6.95625626e+01,  6.97627628e+01,  6.99629630e+01,  7.01631632e+01,\n",
              "        7.03633634e+01,  7.05635636e+01,  7.07637638e+01,  7.09639640e+01,\n",
              "        7.11641642e+01,  7.13643644e+01,  7.15645646e+01,  7.17647648e+01,\n",
              "        7.19649650e+01,  7.21651652e+01,  7.23653654e+01,  7.25655656e+01,\n",
              "        7.27657658e+01,  7.29659660e+01,  7.31661662e+01,  7.33663664e+01,\n",
              "        7.35665666e+01,  7.37667668e+01,  7.39669670e+01,  7.41671672e+01,\n",
              "        7.43673674e+01,  7.45675676e+01,  7.47677678e+01,  7.49679680e+01,\n",
              "        7.51681682e+01,  7.53683684e+01,  7.55685686e+01,  7.57687688e+01,\n",
              "        7.59689690e+01,  7.61691692e+01,  7.63693694e+01,  7.65695696e+01,\n",
              "        7.67697698e+01,  7.69699700e+01,  7.71701702e+01,  7.73703704e+01,\n",
              "        7.75705706e+01,  7.77707708e+01,  7.79709710e+01,  7.81711712e+01,\n",
              "        7.83713714e+01,  7.85715716e+01,  7.87717718e+01,  7.89719720e+01,\n",
              "        7.91721722e+01,  7.93723724e+01,  7.95725726e+01,  7.97727728e+01,\n",
              "        7.99729730e+01,  8.01731732e+01,  8.03733734e+01,  8.05735736e+01,\n",
              "        8.07737738e+01,  8.09739740e+01,  8.11741742e+01,  8.13743744e+01,\n",
              "        8.15745746e+01,  8.17747748e+01,  8.19749750e+01,  8.21751752e+01,\n",
              "        8.23753754e+01,  8.25755756e+01,  8.27757758e+01,  8.29759760e+01,\n",
              "        8.31761762e+01,  8.33763764e+01,  8.35765766e+01,  8.37767768e+01,\n",
              "        8.39769770e+01,  8.41771772e+01,  8.43773774e+01,  8.45775776e+01,\n",
              "        8.47777778e+01,  8.49779780e+01,  8.51781782e+01,  8.53783784e+01,\n",
              "        8.55785786e+01,  8.57787788e+01,  8.59789790e+01,  8.61791792e+01,\n",
              "        8.63793794e+01,  8.65795796e+01,  8.67797798e+01,  8.69799800e+01,\n",
              "        8.71801802e+01,  8.73803804e+01,  8.75805806e+01,  8.77807808e+01,\n",
              "        8.79809810e+01,  8.81811812e+01,  8.83813814e+01,  8.85815816e+01,\n",
              "        8.87817818e+01,  8.89819820e+01,  8.91821822e+01,  8.93823824e+01,\n",
              "        8.95825826e+01,  8.97827828e+01,  8.99829830e+01,  9.01831832e+01,\n",
              "        9.03833834e+01,  9.05835836e+01,  9.07837838e+01,  9.09839840e+01,\n",
              "        9.11841842e+01,  9.13843844e+01,  9.15845846e+01,  9.17847848e+01,\n",
              "        9.19849850e+01,  9.21851852e+01,  9.23853854e+01,  9.25855856e+01,\n",
              "        9.27857858e+01,  9.29859860e+01,  9.31861862e+01,  9.33863864e+01,\n",
              "        9.35865866e+01,  9.37867868e+01,  9.39869870e+01,  9.41871872e+01,\n",
              "        9.43873874e+01,  9.45875876e+01,  9.47877878e+01,  9.49879880e+01,\n",
              "        9.51881882e+01,  9.53883884e+01,  9.55885886e+01,  9.57887888e+01,\n",
              "        9.59889890e+01,  9.61891892e+01,  9.63893894e+01,  9.65895896e+01,\n",
              "        9.67897898e+01,  9.69899900e+01,  9.71901902e+01,  9.73903904e+01,\n",
              "        9.75905906e+01,  9.77907908e+01,  9.79909910e+01,  9.81911912e+01,\n",
              "        9.83913914e+01,  9.85915916e+01,  9.87917918e+01,  9.89919920e+01,\n",
              "        9.91921922e+01,  9.93923924e+01,  9.95925926e+01,  9.97927928e+01,\n",
              "        9.99929930e+01,  1.00193193e+02,  1.00393393e+02,  1.00593594e+02,\n",
              "        1.00793794e+02,  1.00993994e+02,  1.01194194e+02,  1.01394394e+02,\n",
              "        1.01594595e+02,  1.01794795e+02,  1.01994995e+02,  1.02195195e+02,\n",
              "        1.02395395e+02,  1.02595596e+02,  1.02795796e+02,  1.02995996e+02,\n",
              "        1.03196196e+02,  1.03396396e+02,  1.03596597e+02,  1.03796797e+02,\n",
              "        1.03996997e+02,  1.04197197e+02,  1.04397397e+02,  1.04597598e+02,\n",
              "        1.04797798e+02,  1.04997998e+02,  1.05198198e+02,  1.05398398e+02,\n",
              "        1.05598599e+02,  1.05798799e+02,  1.05998999e+02,  1.06199199e+02,\n",
              "        1.06399399e+02,  1.06599600e+02,  1.06799800e+02,  1.07000000e+02])"
            ]
          },
          "metadata": {},
          "execution_count": 133
        }
      ]
    },
    {
      "cell_type": "code",
      "source": [
        "y[0]"
      ],
      "metadata": {
        "colab": {
          "base_uri": "https://localhost:8080/"
        },
        "id": "LIle09TVNTeS",
        "outputId": "2d3f2c8a-066a-4632-bb38-4d384eca7b83"
      },
      "execution_count": 134,
      "outputs": [
        {
          "output_type": "execute_result",
          "data": {
            "text/plain": [
              "-93.0"
            ]
          },
          "metadata": {},
          "execution_count": 134
        }
      ]
    },
    {
      "cell_type": "code",
      "source": [
        "x[0]"
      ],
      "metadata": {
        "colab": {
          "base_uri": "https://localhost:8080/"
        },
        "id": "BdU5yH4rNTWO",
        "outputId": "08820cfd-84a6-4ac0-9684-3421872cf253"
      },
      "execution_count": 135,
      "outputs": [
        {
          "output_type": "execute_result",
          "data": {
            "text/plain": [
              "-10.0"
            ]
          },
          "metadata": {},
          "execution_count": 135
        }
      ]
    },
    {
      "cell_type": "code",
      "source": [
        "plt.plot(x,y, label= 'y= 10x+7') \n",
        "plt.title('Exercise 1')\n",
        "plt.legend()"
      ],
      "metadata": {
        "colab": {
          "base_uri": "https://localhost:8080/",
          "height": 298
        },
        "id": "mu2rQZoZNTR2",
        "outputId": "02328189-da09-4e68-8166-1a763f42c623"
      },
      "execution_count": 136,
      "outputs": [
        {
          "output_type": "execute_result",
          "data": {
            "text/plain": [
              "<matplotlib.legend.Legend at 0x7fa724435290>"
            ]
          },
          "metadata": {},
          "execution_count": 136
        },
        {
          "output_type": "display_data",
          "data": {
            "text/plain": [
              "<Figure size 432x288 with 1 Axes>"
            ],
            "image/png": "[encoded data removed]"
          },
          "metadata": {
            "needs_background": "light"
          }
        }
      ]
    },
    {
      "cell_type": "code",
      "source": [
        "y=-3*x-12"
      ],
      "metadata": {
        "id": "R0rpIVTURm5c"
      },
      "execution_count": 137,
      "outputs": []
    },
    {
      "cell_type": "code",
      "source": [
        "plt.plot(x,y, label= 'y=-3x-7')\n",
        "plt.title ('Exercise 2')\n",
        "plt.legend()"
      ],
      "metadata": {
        "colab": {
          "base_uri": "https://localhost:8080/",
          "height": 298
        },
        "id": "521VxyGyRx2-",
        "outputId": "f0df8dcf-6a38-422c-d3db-903e8d5bb5c6"
      },
      "execution_count": 138,
      "outputs": [
        {
          "output_type": "execute_result",
          "data": {
            "text/plain": [
              "<matplotlib.legend.Legend at 0x7fa72266a9d0>"
            ]
          },
          "metadata": {},
          "execution_count": 138
        },
        {
          "output_type": "display_data",
          "data": {
            "text/plain": [
              "<Figure size 432x288 with 1 Axes>"
            ],
            "image/png": "[encoded data removed]"
          },
          "metadata": {
            "needs_background": "light"
          }
        }
      ]
    },
    {
      "cell_type": "code",
      "source": [
        "y=np.sin(x)"
      ],
      "metadata": {
        "id": "meChR6Z0Se8X"
      },
      "execution_count": 139,
      "outputs": []
    },
    {
      "cell_type": "code",
      "source": [
        "plt.plot(x,y,label='y=sin(x)')\n",
        "plt.title('Exercise 3')\n",
        "plt.legend()"
      ],
      "metadata": {
        "colab": {
          "base_uri": "https://localhost:8080/",
          "height": 298
        },
        "id": "SGvX6XUgSp9Q",
        "outputId": "96dd0cfc-8d21-4371-f4d8-f9e3c5a308b6"
      },
      "execution_count": 140,
      "outputs": [
        {
          "output_type": "execute_result",
          "data": {
            "text/plain": [
              "<matplotlib.legend.Legend at 0x7fa722422b10>"
            ]
          },
          "metadata": {},
          "execution_count": 140
        },
        {
          "output_type": "display_data",
          "data": {
            "text/plain": [
              "<Figure size 432x288 with 1 Axes>"
            ],
            "image/png": "[encoded data removed]"
          },
          "metadata": {
            "needs_background": "light"
          }
        }
      ]
    }
  ]
}